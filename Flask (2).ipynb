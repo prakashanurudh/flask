{
 "cells": [
  {
   "cell_type": "markdown",
   "id": "1b614328-08d1-4040-99c2-4f4959dbdc4b",
   "metadata": {},
   "source": [
    "Q1. What is Flask Framework? What are the advantages of Flask Framework?"
   ]
  },
  {
   "cell_type": "markdown",
   "id": "b10136fd-f0de-4539-a361-4a573ba71123",
   "metadata": {},
   "source": [
    "Ans1.Flask is microweb framework written in python language it is known for their light weight and flexibility.\n",
    "     Flask provide essential feature for web development Advantages of Flask Framework\n",
    "     \n",
    "     \n",
    "Lightweight and Minimalistic\n",
    "\n",
    "Flask is designed to be lightweight and only includes the necessary components to get a web application up and running. This results in a small footprint and minimal overhead.\n",
    "\n",
    "\n",
    "Flexibility:\n",
    "Flask gives developers the flexibility to choose their tools and libraries. It does not enforce any specific project or code layout, making it highly customizable.\n",
    "\n",
    "Easy to Learn and Use:\n",
    "Flask's simple and intuitive API makes it easy for beginners to pick up and start developing web applications. Its straightforward documentation further simplifies the learning curve.\n",
    "\n",
    "\n",
    "Modular and Extensible:\n",
    "Flask is modular in nature, allowing developers to use only the components they need. Additional features can be added via Flask extensions, which are readily available for tasks such as form validation, authentication, and database integration.\n",
    "\n",
    "\n",
    "Integrated Development Server:\n",
    "Flask includes a built-in development server, which makes it easy to test and debug applications during development.\n",
    "\n",
    "\n",
    "\n"
   ]
  },
  {
   "cell_type": "markdown",
   "id": "d892f7aa-97d4-4d5e-a221-a0205d6ec84a",
   "metadata": {},
   "source": [
    "Q2. Create a simple Flask application to display ‘Hello World!!’. Attach the screenshot of the output in\n",
    "   Jupyter Notebook."
   ]
  },
  {
   "cell_type": "code",
   "execution_count": null,
   "id": "05c39f6c-0170-4f9c-b1b3-56068de2b6ef",
   "metadata": {},
   "outputs": [],
   "source": [
    "from flask import Flask\n",
    "\n",
    "app = Flask(__name__)\n",
    "\n",
    "@app.route(\"/\")\n",
    "def hello_world():\n",
    "    return \"<h1>Hello, World!</h1>\"\n",
    "\n",
    "if __name__==\"__main__\":\n",
    "    app.run(host=\"0.0.0.0\")\n"
   ]
  },
  {
   "cell_type": "markdown",
   "id": "0d076104-3435-4d19-b7b4-3dc1dba143e1",
   "metadata": {},
   "source": [
    "![](screen.png)"
   ]
  },
  {
   "cell_type": "markdown",
   "id": "ad5b38c5-49c7-4e40-94a8-d18b6ef5d665",
   "metadata": {},
   "source": [
    "Q3. What is App routing in Flask? Why do we use app routes?"
   ]
  },
  {
   "cell_type": "markdown",
   "id": "c5f9a3b6-31c3-43ac-8b06-c63574f84bde",
   "metadata": {},
   "source": [
    "Ans4.  In Flask, app routing refers to the process of defining the different URL paths that an application can respond to. Each path is     associated with a specific function, which is executed when that path is accessed. This is accomplished using the @app.route decorator provided by Flask.\n",
    "\n",
    "Reason of using app route\n",
    "\n",
    "Mapping URLs to Functions: App routes allow you to map specific URLs to functions in your Flask application. This makes it easy to define how different parts of your application should respond to various requests.\n",
    "\n",
    "Organized Code: By using routes, you can organize your code in a way that clearly associates URLs with their corresponding logic, making the application easier to understand and maintain."
   ]
  },
  {
   "cell_type": "markdown",
   "id": "02d2085b-7259-4643-a830-35d9ece1af2b",
   "metadata": {},
   "source": [
    "Q4. Create a “/welcome” route to display the welcome message “Welcome to ABC Corporation” and a “/”\n",
    "route to show the following details:\n",
    "Company Name: ABC Corporation\n",
    "Location: India\n",
    "Contact Detail: 999-999-9999"
   ]
  },
  {
   "cell_type": "code",
   "execution_count": null,
   "id": "d058550d-a1f2-45f5-9a09-8230f694fe07",
   "metadata": {},
   "outputs": [],
   "source": [
    "from flask import Flask\n",
    "\n",
    "app = Flask(__name__)\n",
    "\n",
    "@app.route(\"/welcome\")\n",
    "def welcome():\n",
    "    return \"<h1>“Welcome to ABC Corporation”</h1>\"\n",
    "@app.route(\"/\")\n",
    "def details():\n",
    "    company_details = \"\"\"\n",
    "    \n",
    "    <p><strong>Company Name:</strong> ABC Corporation</p>\n",
    "    <p><strong>Location:</strong> India</p>\n",
    "    <p><strong>Contact Detail:</strong> 999-999-9999</p>\n",
    "    \"\"\"\n",
    "    return company_details\n",
    "\n",
    "if __name__==\"__main__\":6\n",
    "    app.run(host=\"0.0.0.0\")\n"
   ]
  },
  {
   "cell_type": "markdown",
   "id": "2e3e7b75-e86d-440b-bb3d-62b9c9aca3a2",
   "metadata": {},
   "source": [
    "![](output.png)"
   ]
  },
  {
   "cell_type": "markdown",
   "id": "398d029e-ae80-4f2e-a262-11afdccbb605",
   "metadata": {},
   "source": [
    "Q5. What function is used in Flask for URL Building? Write a Python code to demonstrate the working of the\n",
    "url_for() function."
   ]
  },
  {
   "cell_type": "code",
   "execution_count": null,
   "id": "4ae73677-759a-4278-a7c4-eb67f3cd56ee",
   "metadata": {},
   "outputs": [],
   "source": [
    "#import the flask library\n",
    "from flask import Flask\n",
    "#create the flask instance and pass the flask \n",
    "app = Flask(__name__)\n",
    "# Default route added using a decorator,for view function welcome\n",
    "@app.route(\"/welcome\")\n",
    "def welcome():\n",
    "    return \"<h1>“Welcome to new website ”</h1>\"\n",
    "# Start with flask web app, with debug as True, \n",
    "# only if this is the starting page \n",
    "if __name__==\"__main__\":\n",
    "    app.run(host=\"0.0.0.0\")"
   ]
  },
  {
   "cell_type": "code",
   "execution_count": null,
   "id": "edd5802f-baa2-4ac7-8fdc-5ea9a7f266f3",
   "metadata": {},
   "outputs": [],
   "source": [
    "#using url_for() function \n",
    "from flask import Flask, url_for, redirect\n",
    "\n",
    "app = Flask(__name__)\n",
    "\n",
    "@app.route('/')\n",
    "def home():\n",
    "    return 'Welcome to the Home Page!'\n",
    "\n",
    "@app.route('/about')\n",
    "def about():\n",
    "    return 'This is the About Page.'\n",
    "\n",
    "@app.route('/redirect_to_about')\n",
    "def redirect_to_about():\n",
    "    # Generate the URL for the 'about' function and redirect to it\n",
    "    return redirect(url_for('about'))\n",
    "\n",
    "@app.route('/user/<username>')\n",
    "def user_profile(username):\n",
    "    return f'User: {username}'\n",
    "\n",
    "@app.route('/show_user')\n",
    "def show_user():\n",
    "    # Generate the URL for the 'user_profile' function with a dynamic argument\n",
    "    return redirect(url_for('user_profile', username='john_doe'))\n",
    "\n",
    "if __name__ == '__main__':\n",
    "    app.run(debug=True)\n"
   ]
  }
 ],
 "metadata": {
  "kernelspec": {
   "display_name": "Python 3 (ipykernel)",
   "language": "python",
   "name": "python3"
  },
  "language_info": {
   "codemirror_mode": {
    "name": "ipython",
    "version": 3
   },
   "file_extension": ".py",
   "mimetype": "text/x-python",
   "name": "python",
   "nbconvert_exporter": "python",
   "pygments_lexer": "ipython3",
   "version": "3.10.8"
  }
 },
 "nbformat": 4,
 "nbformat_minor": 5
}
